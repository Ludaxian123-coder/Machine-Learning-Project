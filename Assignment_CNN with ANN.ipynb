{
 "cells": [
  {
   "cell_type": "code",
   "execution_count": 1,
   "id": "d0d5b269",
   "metadata": {},
   "outputs": [
    {
     "name": "stderr",
     "output_type": "stream",
     "text": [
      "C:\\Users\\28491\\AppData\\Local\\Packages\\PythonSoftwareFoundation.Python.3.8_qbz5n2kfra8p0\\LocalCache\\local-packages\\Python38\\site-packages\\numpy\\_distributor_init.py:30: UserWarning: loaded more than 1 DLL from .libs:\n",
      "C:\\Users\\28491\\AppData\\Local\\Packages\\PythonSoftwareFoundation.Python.3.8_qbz5n2kfra8p0\\LocalCache\\local-packages\\Python38\\site-packages\\numpy\\.libs\\libopenblas.GK7GX5KEQ4F6UYO3P26ULGBQYHGQO7J4.gfortran-win_amd64.dll\n",
      "C:\\Users\\28491\\AppData\\Local\\Packages\\PythonSoftwareFoundation.Python.3.8_qbz5n2kfra8p0\\LocalCache\\local-packages\\Python38\\site-packages\\numpy\\.libs\\libopenblas.WCDJNK7YVMPZQ2ME2ZZHJJRJ3JIKNDB7.gfortran-win_amd64.dll\n",
      "  warnings.warn(\"loaded more than 1 DLL from .libs:\"\n"
     ]
    }
   ],
   "source": [
    "import tensorflow as tf\n",
    "from tensorflow.keras import datasets, layers, models\n",
    "import tensorflow_addons as tfa\n",
    "import matplotlib.pyplot as plt\n",
    "%matplotlib inline\n",
    "from sklearn import metrics\n",
    "from sklearn.metrics import accuracy_score, precision_score, recall_score, f1_score\n",
    "import pandas as pd\n",
    "from tensorflow.keras.layers import Flatten\n",
    "from tensorflow.keras.layers import concatenate\n",
    "import numpy as np\n",
    "#pip install tensorflow-addons\n",
    "from keras.layers.merge import concatenate\n",
    "from keras.models import Model, Sequential\n",
    "from keras.layers import Dense, Input"
   ]
  },
  {
   "cell_type": "markdown",
   "id": "ef315786",
   "metadata": {},
   "source": [
    "# Question 4.1 \n",
    "\n",
    "Build a multi-class classification model using a convolutional neural network to achieve\n",
    "at least 90% validation accuracy."
   ]
  },
  {
   "cell_type": "code",
   "execution_count": 2,
   "id": "5c82830a",
   "metadata": {},
   "outputs": [],
   "source": [
    "fashion_mnist = tf.keras.datasets.fashion_mnist\n",
    "(train_images, train_labels), (test_images, test_labels) = fashion_mnist.load_data()"
   ]
  },
  {
   "cell_type": "code",
   "execution_count": 3,
   "id": "d6e3d4ea",
   "metadata": {},
   "outputs": [],
   "source": [
    "train_images = train_images.reshape((60000, 28, 28, 1))\n",
    "test_images = test_images.reshape((10000, 28, 28, 1))\n",
    "\n",
    "# Normalize pixel values to be between 0 and 1\n",
    "train_images, test_images = train_images / 255.0, test_images / 255.0"
   ]
  },
  {
   "cell_type": "code",
   "execution_count": 4,
   "id": "ae32a340",
   "metadata": {},
   "outputs": [],
   "source": [
    "model = tf.keras.Sequential([\n",
    "    layers.Conv2D(32, (3, 3), activation='relu', input_shape=(28, 28, 1)),\n",
    "    layers.MaxPooling2D((2, 2)),\n",
    "    layers.Conv2D(64, (3, 3), activation='relu'),\n",
    "    layers.MaxPooling2D((2, 2)),\n",
    "    layers.Conv2D(64, (3, 3), activation='relu'),\n",
    "    layers.Flatten(),\n",
    "    layers.Dense(64, activation='relu'),\n",
    "    layers.Dense(10, activation='softmax')\n",
    "])"
   ]
  },
  {
   "cell_type": "code",
   "execution_count": 5,
   "id": "5ea22cc7",
   "metadata": {},
   "outputs": [],
   "source": [
    "model.compile(optimizer='adam',\n",
    "              loss='sparse_categorical_crossentropy',\n",
    "              metrics=['accuracy'])"
   ]
  },
  {
   "cell_type": "code",
   "execution_count": 6,
   "id": "453df18b",
   "metadata": {},
   "outputs": [
    {
     "name": "stdout",
     "output_type": "stream",
     "text": [
      "Epoch 1/10\n",
      "1875/1875 [==============================] - 20s 10ms/step - loss: 0.4852 - accuracy: 0.8233 - val_loss: 0.3645 - val_accuracy: 0.8686\n",
      "Epoch 2/10\n",
      "1875/1875 [==============================] - 19s 10ms/step - loss: 0.3155 - accuracy: 0.8846 - val_loss: 0.3308 - val_accuracy: 0.8776\n",
      "Epoch 3/10\n",
      "1875/1875 [==============================] - 19s 10ms/step - loss: 0.2706 - accuracy: 0.9010 - val_loss: 0.2900 - val_accuracy: 0.8924\n",
      "Epoch 4/10\n",
      "1875/1875 [==============================] - 18s 10ms/step - loss: 0.2364 - accuracy: 0.9120 - val_loss: 0.2634 - val_accuracy: 0.9030\n",
      "Epoch 5/10\n",
      "1875/1875 [==============================] - 18s 10ms/step - loss: 0.2151 - accuracy: 0.9198 - val_loss: 0.2574 - val_accuracy: 0.9099\n",
      "Epoch 6/10\n",
      "1875/1875 [==============================] - 18s 10ms/step - loss: 0.1935 - accuracy: 0.9281 - val_loss: 0.2495 - val_accuracy: 0.9127\n",
      "Epoch 7/10\n",
      "1875/1875 [==============================] - 18s 10ms/step - loss: 0.1778 - accuracy: 0.9336 - val_loss: 0.2736 - val_accuracy: 0.9073\n",
      "Epoch 8/10\n",
      "1875/1875 [==============================] - 18s 10ms/step - loss: 0.1611 - accuracy: 0.9395 - val_loss: 0.2735 - val_accuracy: 0.9066\n",
      "Epoch 9/10\n",
      "1875/1875 [==============================] - 19s 10ms/step - loss: 0.1465 - accuracy: 0.9458 - val_loss: 0.2864 - val_accuracy: 0.9054\n",
      "Epoch 10/10\n",
      "1875/1875 [==============================] - 18s 10ms/step - loss: 0.1336 - accuracy: 0.9496 - val_loss: 0.2685 - val_accuracy: 0.9124\n"
     ]
    }
   ],
   "source": [
    "history = model.fit(train_images, train_labels, validation_data=(test_images, test_labels), epochs=10)"
   ]
  },
  {
   "cell_type": "markdown",
   "id": "39558df3",
   "metadata": {},
   "source": [
    "# Question 4.2 \n",
    "\n",
    "Build a confusion matrix for the above classification model. Each row of the confusion\n",
    "matrix represents an actual class."
   ]
  },
  {
   "cell_type": "code",
   "execution_count": 7,
   "id": "861e8808",
   "metadata": {},
   "outputs": [
    {
     "name": "stderr",
     "output_type": "stream",
     "text": [
      "C:\\Users\\28491\\AppData\\Local\\Packages\\PythonSoftwareFoundation.Python.3.8_qbz5n2kfra8p0\\LocalCache\\local-packages\\Python38\\site-packages\\tensorflow\\python\\keras\\engine\\sequential.py:455: UserWarning: `model.predict_classes()` is deprecated and will be removed after 2021-01-01. Please use instead:* `np.argmax(model.predict(x), axis=-1)`,   if your model does multi-class classification   (e.g. if it uses a `softmax` last-layer activation).* `(model.predict(x) > 0.5).astype(\"int32\")`,   if your model does binary classification   (e.g. if it uses a `sigmoid` last-layer activation).\n",
      "  warnings.warn('`model.predict_classes()` is deprecated and '\n"
     ]
    }
   ],
   "source": [
    "test_pred = model.predict_classes(test_images)\n"
   ]
  },
  {
   "cell_type": "code",
   "execution_count": 8,
   "id": "c5011980",
   "metadata": {},
   "outputs": [
    {
     "data": {
      "text/plain": [
       "(10000,)"
      ]
     },
     "execution_count": 8,
     "metadata": {},
     "output_type": "execute_result"
    }
   ],
   "source": [
    "test_pred.shape\n",
    "test_labels.shape"
   ]
  },
  {
   "cell_type": "code",
   "execution_count": 9,
   "id": "43bad05f",
   "metadata": {},
   "outputs": [
    {
     "name": "stdout",
     "output_type": "stream",
     "text": [
      "Confusion Matrix：\n",
      "\n",
      "[[857   1  15   9   2   2 108   0   6   0]\n",
      " [  2 982   1   9   1   1   1   0   3   0]\n",
      " [ 16   0 844   5  74   0  60   0   1   0]\n",
      " [ 19   5  11 901  33   1  29   0   1   0]\n",
      " [  3   0  42  12 876   0  65   0   2   0]\n",
      " [  0   0   0   0   0 988   0  10   0   2]\n",
      " [ 96   0  51  23  49   0 776   0   5   0]\n",
      " [  0   0   0   0   0  15   0 973   0  12]\n",
      " [  1   0   3   5   4   2   4   4 975   2]\n",
      " [  0   0   0   0   0   6   0  42   0 952]]\n",
      "----------------------------------------\n",
      "              precision    recall  f1-score   support\n",
      "\n",
      "           0       0.86      0.86      0.86      1000\n",
      "           1       0.99      0.98      0.99      1000\n",
      "           2       0.87      0.84      0.86      1000\n",
      "           3       0.93      0.90      0.92      1000\n",
      "           4       0.84      0.88      0.86      1000\n",
      "           5       0.97      0.99      0.98      1000\n",
      "           6       0.74      0.78      0.76      1000\n",
      "           7       0.95      0.97      0.96      1000\n",
      "           8       0.98      0.97      0.98      1000\n",
      "           9       0.98      0.95      0.97      1000\n",
      "\n",
      "    accuracy                           0.91     10000\n",
      "   macro avg       0.91      0.91      0.91     10000\n",
      "weighted avg       0.91      0.91      0.91     10000\n",
      "\n"
     ]
    }
   ],
   "source": [
    "#importing confusion matrix\n",
    "from sklearn.metrics import confusion_matrix\n",
    "test_pred = model.predict_classes(test_images)\n",
    "confusion = confusion_matrix(test_labels, test_pred)\n",
    "print('Confusion Matrix：\\n')\n",
    "print(confusion)\n",
    "print('----------------------------------------')\n",
    "print(metrics.classification_report(test_labels, test_pred))"
   ]
  },
  {
   "cell_type": "markdown",
   "id": "d7584fa0",
   "metadata": {},
   "source": [
    "# Question 4.3 \n",
    "\n",
    "In multi-class classification, there are 3 methods, namely “micro”, “macro” and “weighted”, to aggregate the precisions and recalls from each class to the overall precision and recall respectively. Understand each aggregation method and justify the\n",
    "method that you choose to calculate the overall precision and recall for this dataset."
   ]
  },
  {
   "cell_type": "markdown",
   "id": "d5b3a753",
   "metadata": {},
   "source": [
    "### Macro-average \n",
    "\n",
    "method for recall and precision are the mean of recall and scores of all classes( treating all classes equally). Macro-average perform not well when the  numbers of obeservations in each classes  are imbalance.\n"
   ]
  },
  {
   "cell_type": "markdown",
   "id": "6cfd5df3",
   "metadata": {},
   "source": [
    "###  micro-average\n",
    "\n",
    "will aggregate the contributions of all classes to compute the average metric. Micro-average perform better then macro-average when the datasets are imbalance. "
   ]
  },
  {
   "cell_type": "markdown",
   "id": "fbc8264b",
   "metadata": {},
   "source": [
    "### Weighted-average \n",
    "\n",
    "is the sum of the scores(recall ,precision) of all classes after multiplying their respective class proportions.Weighted-average perform better then macro-average when the datasets are imbalance. \n"
   ]
  },
  {
   "cell_type": "code",
   "execution_count": 10,
   "id": "d556106c",
   "metadata": {},
   "outputs": [
    {
     "name": "stdout",
     "output_type": "stream",
     "text": [
      "Micro Precision: 0.912400\n",
      "Micro Recall: 0.912400\n",
      "Micro F1-score: 0.912400\n",
      "\n",
      "Macro Precision: 0.913500\n",
      "Macro Recall: 0.912400\n",
      "Macro F1-score: 0.912774\n",
      "\n",
      "Weighted Precision: 0.913500\n",
      "Weighted Recall: 0.912400\n",
      "Weighted F1-score: 0.912774\n"
     ]
    }
   ],
   "source": [
    "\n",
    "\n",
    "print('Micro Precision: {:.6f}'.format(precision_score(test_labels, test_pred, average='micro')))\n",
    "print('Micro Recall: {:.6f}'.format(recall_score(test_labels, test_pred, average='micro')))\n",
    "print('Micro F1-score: {:.6f}\\n'.format(f1_score(test_labels, test_pred, average='micro')))\n",
    "\n",
    "print('Macro Precision: {:.6f}'.format(precision_score(test_labels, test_pred, average='macro')))\n",
    "print('Macro Recall: {:.6f}'.format(recall_score(test_labels, test_pred, average='macro')))\n",
    "print('Macro F1-score: {:.6f}\\n'.format(f1_score(test_labels, test_pred, average='macro')))\n",
    "\n",
    "print('Weighted Precision: {:.6f}'.format(precision_score(test_labels, test_pred, average='weighted')))\n",
    "print('Weighted Recall: {:.6f}'.format(recall_score(test_labels, test_pred, average='weighted')))\n",
    "print('Weighted F1-score: {:.6f}'.format(f1_score(test_labels, test_pred, average='weighted')))"
   ]
  },
  {
   "cell_type": "markdown",
   "id": "2a9458f9",
   "metadata": {},
   "source": [
    "#####  Accroding the result shown above. In this datasets, micro, macro, and weighted have the same Recall, but macro has the highest precision."
   ]
  },
  {
   "cell_type": "code",
   "execution_count": 11,
   "id": "4c0f3a0b",
   "metadata": {},
   "outputs": [
    {
     "name": "stdout",
     "output_type": "stream",
     "text": [
      "0    6000\n",
      "1    6000\n",
      "2    6000\n",
      "3    6000\n",
      "4    6000\n",
      "5    6000\n",
      "6    6000\n",
      "7    6000\n",
      "8    6000\n",
      "9    6000\n",
      "dtype: int64\n",
      "0    1000\n",
      "1    1000\n",
      "2    1000\n",
      "3    1000\n",
      "4    1000\n",
      "5    1000\n",
      "6    1000\n",
      "7    1000\n",
      "8    1000\n",
      "9    1000\n",
      "dtype: int64\n"
     ]
    }
   ],
   "source": [
    "# datasets are balanced. Each class has the same amount of data.\n",
    "print(pd.DataFrame(train_labels).value_counts())\n",
    "print(pd.DataFrame(test_labels).value_counts())"
   ]
  },
  {
   "cell_type": "markdown",
   "id": "771eb7ff",
   "metadata": {},
   "source": [
    "###  Conclusion:\n",
    "In the datasets MINIST, the classes are balanced,each classes have the same number of data.'macro','micro' and 'weighted' get very close aggregation result of recall and precision in this datasets.\n",
    "\n",
    "Based above, I choose 'macro' to calculate the overall precision and recall for this dataset. Because 'macro' take all classes equaly important.\n"
   ]
  },
  {
   "cell_type": "code",
   "execution_count": 12,
   "id": "772065de",
   "metadata": {},
   "outputs": [
    {
     "name": "stdout",
     "output_type": "stream",
     "text": [
      "Macro Precision: 0.913500\n",
      "Macro Recall: 0.912400\n"
     ]
    }
   ],
   "source": [
    "print('Macro Precision: {:.6f}'.format(precision_score(test_labels, test_pred, average='macro')))\n",
    "print('Macro Recall: {:.6f}'.format(recall_score(test_labels, test_pred, average='macro')))"
   ]
  },
  {
   "cell_type": "markdown",
   "id": "0c84d3c4",
   "metadata": {},
   "source": [
    "# Question 4.4\n",
    "\n",
    "Explore functional API of Keras, and build a model with two branches\n",
    "• The first branch is a convolutional network\n",
    "• The second branch is a pure fully connected network\n"
   ]
  },
  {
   "cell_type": "code",
   "execution_count": 13,
   "id": "3b8a35ba",
   "metadata": {},
   "outputs": [],
   "source": [
    "#Build convolution lnetwork branch\n",
    "convolution_input = tf.keras.Sequential([\n",
    "    layers.Conv2D(32, (3, 3), activation='relu', input_shape=(28, 28, 1)),\n",
    "    layers.MaxPooling2D((2, 2)),\n",
    "    layers.Flatten()\n",
    "])\n"
   ]
  },
  {
   "cell_type": "code",
   "execution_count": 14,
   "id": "483c2f2a",
   "metadata": {},
   "outputs": [],
   "source": [
    "#Build fully connected network\n",
    "connect_input=tf.keras.Sequential([\n",
    "    layers.Flatten(input_shape=(28, 28)),\n",
    "    layers.Dense(units=256, activation='relu'),\n",
    "    layers.Flatten()\n",
    "])"
   ]
  },
  {
   "cell_type": "code",
   "execution_count": 15,
   "id": "ad15b325",
   "metadata": {},
   "outputs": [
    {
     "name": "stderr",
     "output_type": "stream",
     "text": [
      "C:\\Users\\28491\\AppData\\Local\\Packages\\PythonSoftwareFoundation.Python.3.8_qbz5n2kfra8p0\\LocalCache\\local-packages\\Python38\\site-packages\\tensorflow\\python\\keras\\optimizer_v2\\optimizer_v2.py:374: UserWarning: The `lr` argument is deprecated, use `learning_rate` instead.\n",
      "  warnings.warn(\n"
     ]
    }
   ],
   "source": [
    "#Concatenate two branchs together and build another fully connected network.\n",
    "model_concat = concatenate([convolution_input.output,connect_input.output], axis=-1)\n"
   ]
  },
  {
   "cell_type": "code",
   "execution_count": null,
   "id": "2b698a0a",
   "metadata": {},
   "outputs": [],
   "source": [
    "model_concat1= tf.keras.layers.Dense(units=256,activation='relu')(model_concat)\n",
    "model_concat2=tf.keras.layers.Dropout(rate=0.2)(model_concat1)\n",
    "model_concat3=tf.keras.layers.Dense(units=10, activation='softmax')(model_concat2)\n",
    "model1= tf.keras.Model(inputs=[convolution_input.input,connect_input.input], outputs=model_concat3)\n",
    "\n",
    "model1.compile(optimizer=tf.keras.optimizers.Adam(lr=0.003),\n",
    "            loss=\"sparse_categorical_crossentropy\",\n",
    "            metrics=['accuracy'])"
   ]
  },
  {
   "cell_type": "code",
   "execution_count": 16,
   "id": "7d14eed6",
   "metadata": {},
   "outputs": [],
   "source": [
    "x_train1=train_images\n",
    "x_train2=train_images\n",
    "x_test1=test_images\n",
    "x_test2=test_images"
   ]
  },
  {
   "cell_type": "code",
   "execution_count": 17,
   "id": "e2e2eb6c",
   "metadata": {},
   "outputs": [
    {
     "name": "stdout",
     "output_type": "stream",
     "text": [
      "Epoch 1/20\n",
      "12/12 [==============================] - 7s 544ms/step - loss: 1.3696 - accuracy: 0.5638 - val_loss: 0.6369 - val_accuracy: 0.7637\n",
      "Epoch 2/20\n",
      "12/12 [==============================] - 6s 536ms/step - loss: 0.5732 - accuracy: 0.7904 - val_loss: 0.4678 - val_accuracy: 0.8302\n",
      "Epoch 3/20\n",
      "12/12 [==============================] - 6s 535ms/step - loss: 0.4386 - accuracy: 0.8459 - val_loss: 0.3990 - val_accuracy: 0.8602\n",
      "Epoch 4/20\n",
      "12/12 [==============================] - 6s 537ms/step - loss: 0.3756 - accuracy: 0.8676 - val_loss: 0.3564 - val_accuracy: 0.8752\n",
      "Epoch 5/20\n",
      "12/12 [==============================] - 6s 535ms/step - loss: 0.3343 - accuracy: 0.8806 - val_loss: 0.3272 - val_accuracy: 0.8837\n",
      "Epoch 6/20\n",
      "12/12 [==============================] - 6s 544ms/step - loss: 0.3079 - accuracy: 0.8882 - val_loss: 0.3108 - val_accuracy: 0.8898\n",
      "Epoch 7/20\n",
      "12/12 [==============================] - 7s 549ms/step - loss: 0.2898 - accuracy: 0.8956 - val_loss: 0.2925 - val_accuracy: 0.8941\n",
      "Epoch 8/20\n",
      "12/12 [==============================] - 7s 547ms/step - loss: 0.2703 - accuracy: 0.9020 - val_loss: 0.2858 - val_accuracy: 0.8970\n",
      "Epoch 9/20\n",
      "12/12 [==============================] - 7s 555ms/step - loss: 0.2516 - accuracy: 0.9094 - val_loss: 0.2696 - val_accuracy: 0.9011\n",
      "Epoch 10/20\n",
      "12/12 [==============================] - 6s 544ms/step - loss: 0.2365 - accuracy: 0.9141 - val_loss: 0.2692 - val_accuracy: 0.9010\n",
      "Epoch 11/20\n",
      "12/12 [==============================] - 6s 544ms/step - loss: 0.2255 - accuracy: 0.9170 - val_loss: 0.2613 - val_accuracy: 0.9083\n",
      "Epoch 12/20\n",
      "12/12 [==============================] - 6s 539ms/step - loss: 0.2192 - accuracy: 0.9200 - val_loss: 0.2573 - val_accuracy: 0.9092\n",
      "Epoch 13/20\n",
      "12/12 [==============================] - 6s 543ms/step - loss: 0.2046 - accuracy: 0.9263 - val_loss: 0.2522 - val_accuracy: 0.9097\n",
      "Epoch 14/20\n",
      "12/12 [==============================] - 6s 541ms/step - loss: 0.1946 - accuracy: 0.9300 - val_loss: 0.2543 - val_accuracy: 0.9082\n",
      "Epoch 15/20\n",
      "12/12 [==============================] - 6s 539ms/step - loss: 0.1912 - accuracy: 0.9318 - val_loss: 0.2460 - val_accuracy: 0.9086\n",
      "Epoch 16/20\n",
      "12/12 [==============================] - 7s 546ms/step - loss: 0.1859 - accuracy: 0.9326 - val_loss: 0.2512 - val_accuracy: 0.9103\n",
      "Epoch 17/20\n",
      "12/12 [==============================] - 6s 538ms/step - loss: 0.1743 - accuracy: 0.9381 - val_loss: 0.2377 - val_accuracy: 0.9150\n",
      "Epoch 18/20\n",
      "12/12 [==============================] - 6s 540ms/step - loss: 0.1628 - accuracy: 0.9418 - val_loss: 0.2368 - val_accuracy: 0.9164\n",
      "Epoch 19/20\n",
      "12/12 [==============================] - 6s 542ms/step - loss: 0.1590 - accuracy: 0.9428 - val_loss: 0.2392 - val_accuracy: 0.9147\n",
      "Epoch 20/20\n",
      "12/12 [==============================] - 6s 540ms/step - loss: 0.1528 - accuracy: 0.9462 - val_loss: 0.2345 - val_accuracy: 0.9158\n"
     ]
    }
   ],
   "source": [
    "# Fit model1\n",
    "history_2 = model1.fit([x_train1,x_train2], train_labels,validation_split=0.2, epochs=20,batch_size=4000)"
   ]
  },
  {
   "cell_type": "code",
   "execution_count": 18,
   "id": "cc17baa3",
   "metadata": {},
   "outputs": [
    {
     "data": {
      "image/png": "[encoded data removed]",
      "text/plain": [
       "<Figure size 1440x576 with 2 Axes>"
      ]
     },
     "metadata": {
      "needs_background": "light"
     },
     "output_type": "display_data"
    }
   ],
   "source": [
    "def plot_curve(hist):\n",
    "    \"\"\"Plot a curve of one or more classification metrics vs. epoch.\"\"\"  \n",
    "    # list_of_metrics should be one of the names shown in:\n",
    "    # https://www.tensorflow.org/tutorials/structured_data/imbalanced_data#define_the_model_and_metrics  \n",
    "\n",
    "    epochs = hist.epoch\n",
    "    f, ax = plt.subplots(ncols=2, figsize=(20,8))\n",
    "    ax[0].plot(epochs, hist.history['loss'], label='Training Loss')\n",
    "    ax[0].plot(epochs, hist.history['val_loss'], label='Validation Loss')\n",
    "    ax[0].set_xlabel('Epochs')\n",
    "    ax[0].set_ylabel('Loss')\n",
    "    ax[0].legend()\n",
    "    ax[1].plot(epochs, hist.history['accuracy'], label='Training Accuracy')\n",
    "    ax[1].plot(epochs, hist.history['val_accuracy'], label='Validation Accuracy')\n",
    "    ax[1].set_xlabel('Epochs')\n",
    "    ax[1].set_ylabel('Accuracy')\n",
    "    ax[1].legend()\n",
    "plot_curve(history_2)"
   ]
  },
  {
   "cell_type": "code",
   "execution_count": 19,
   "id": "25897aca",
   "metadata": {},
   "outputs": [
    {
     "name": "stdout",
     "output_type": "stream",
     "text": [
      "\n",
      " Evaluate the new model on the test set:\n",
      "3/3 [==============================] - 1s 129ms/step - loss: 0.2454 - accuracy: 0.9143\n",
      "loss 0.245\n",
      "accuracy 0.914\n"
     ]
    }
   ],
   "source": [
    "#Use the test data set to check the accuracy of the model1\n",
    "print(\"\\n Evaluate the new model on the test set:\")\n",
    "result = model1.evaluate(x=[x_test1,x_test2], y=test_labels, batch_size=4000)\n",
    "\n",
    "for item in zip(model1.metrics_names, result):\n",
    "    print (item[0], np.round(item[1], 3))"
   ]
  }
 ],
 "metadata": {
  "kernelspec": {
   "display_name": "Python 3",
   "language": "python",
   "name": "python3"
  },
  "language_info": {
   "codemirror_mode": {
    "name": "ipython",
    "version": 3
   },
   "file_extension": ".py",
   "mimetype": "text/x-python",
   "name": "python",
   "nbconvert_exporter": "python",
   "pygments_lexer": "ipython3",
   "version": "3.8.8"
  }
 },
 "nbformat": 4,
 "nbformat_minor": 5
}
