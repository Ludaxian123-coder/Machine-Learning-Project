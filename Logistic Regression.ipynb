{
  "nbformat": 4,
  "nbformat_minor": 5,
  "metadata": {
    "kernelspec": {
      "display_name": "Python 3",
      "language": "python",
      "name": "python3"
    },
    "language_info": {
      "codemirror_mode": {
        "name": "ipython",
        "version": 3
      },
      "file_extension": ".py",
      "mimetype": "text/x-python",
      "name": "python",
      "nbconvert_exporter": "python",
      "pygments_lexer": "ipython3",
      "version": "3.8.8"
    },
    "colab": {
      "name": "Lu Di.ipynb",
      "provenance": [],
      "collapsed_sections": [],
      "machine_shape": "hm"
    },
    "accelerator": "GPU"
  },
  "cells": [
    {
      "cell_type": "code",
      "metadata": {
        "id": "fkxKiWE3Qh00",
        "colab": {
          "base_uri": "https://localhost:8080/"
        },
        "outputId": "c48a637f-625a-465c-847f-ce91c963a628"
      },
      "source": [
        "gpu_info = !nvidia-smi\n",
        "gpu_info = '\\n'.join(gpu_info)\n",
        "if gpu_info.find('failed') >= 0:\n",
        "  print('Select the Runtime > \"Change runtime type\" menu to enable a GPU accelerator, ')\n",
        "  print('and then re-execute this cell.')\n",
        "else:\n",
        "  print(gpu_info)"
      ],
      "id": "fkxKiWE3Qh00",
      "execution_count": 1,
      "outputs": [
        {
          "output_type": "stream",
          "text": [
            "Sun Aug 15 13:01:29 2021       \n",
            "+-----------------------------------------------------------------------------+\n",
            "| NVIDIA-SMI 470.42.01    Driver Version: 460.32.03    CUDA Version: 11.2     |\n",
            "|-------------------------------+----------------------+----------------------+\n",
            "| GPU  Name        Persistence-M| Bus-Id        Disp.A | Volatile Uncorr. ECC |\n",
            "| Fan  Temp  Perf  Pwr:Usage/Cap|         Memory-Usage | GPU-Util  Compute M. |\n",
            "|                               |                      |               MIG M. |\n",
            "|===============================+======================+======================|\n",
            "|   0  Tesla T4            Off  | 00000000:00:04.0 Off |                    0 |\n",
            "| N/A   46C    P8     9W /  70W |      0MiB / 15109MiB |      0%      Default |\n",
            "|                               |                      |                  N/A |\n",
            "+-------------------------------+----------------------+----------------------+\n",
            "                                                                               \n",
            "+-----------------------------------------------------------------------------+\n",
            "| Processes:                                                                  |\n",
            "|  GPU   GI   CI        PID   Type   Process name                  GPU Memory |\n",
            "|        ID   ID                                                   Usage      |\n",
            "|=============================================================================|\n",
            "|  No running processes found                                                 |\n",
            "+-----------------------------------------------------------------------------+\n"
          ],
          "name": "stdout"
        }
      ]
    },
    {
      "cell_type": "code",
      "metadata": {
        "id": "0468983a"
      },
      "source": [
        "import numpy as np\n",
        "import pandas as pd \n",
        "import numpy as np\n",
        "from sklearn import tree\n",
        "from sklearn import model_selection\n",
        "from sklearn.metrics import accuracy_score\n",
        "from sklearn.metrics import confusion_matrix\n",
        "from sklearn.metrics import mean_squared_error\n",
        "from sklearn.tree import export_graphviz\n",
        "import matplotlib.pyplot as plt\n",
        "pd.set_option('max_columns', None)\n",
        "pd.set_option('max_rows', None)\n",
        "from sklearn import metrics\n",
        "from sklearn.metrics import accuracy_score, precision_score, recall_score, f1_score\n",
        "from sklearn.model_selection import RandomizedSearchCV\n",
        "from sklearn.model_selection import GridSearchCV\n",
        "from sklearn import  naive_bayes\n",
        "from math import sqrt \n",
        "from sklearn.ensemble import RandomForestClassifier\n",
        "from sklearn.metrics import f1_score\n",
        "from sklearn import linear_model, model_selection"
      ],
      "id": "0468983a",
      "execution_count": 2,
      "outputs": []
    },
    {
      "cell_type": "code",
      "metadata": {
        "colab": {
          "base_uri": "https://localhost:8080/"
        },
        "id": "1t4mqyLYR1JB",
        "outputId": "f92fbc10-ab0f-4e56-c3e5-1f651bf7a232"
      },
      "source": [
        "from google.colab import drive\n",
        "drive.mount('/content/drive')"
      ],
      "id": "1t4mqyLYR1JB",
      "execution_count": 3,
      "outputs": [
        {
          "output_type": "stream",
          "text": [
            "Mounted at /content/drive\n"
          ],
          "name": "stdout"
        }
      ]
    },
    {
      "cell_type": "code",
      "metadata": {
        "id": "PxScRhxlSDeF"
      },
      "source": [
        "df = pd.read_csv('/content/drive/MyDrive/train_data.csv')\n",
        "df_test=pd.read_csv('/content/drive/MyDrive/test_data.csv')"
      ],
      "id": "PxScRhxlSDeF",
      "execution_count": 4,
      "outputs": []
    },
    {
      "cell_type": "code",
      "metadata": {
        "colab": {
          "base_uri": "https://localhost:8080/"
        },
        "id": "CxwGZ5eqbqOn",
        "outputId": "98dcdb61-3e06-41fa-e787-5ff9275e64fa"
      },
      "source": [
        "print('training datasets : ',df['Label'].value_counts())\n",
        "print('----------------------------------------')\n",
        "print('testing datasets : ',df_test['Label'].value_counts()) "
      ],
      "id": "CxwGZ5eqbqOn",
      "execution_count": 5,
      "outputs": [
        {
          "output_type": "stream",
          "text": [
            "training datasets :  1    215487\n",
            "0     34043\n",
            "Name: Label, dtype: int64\n",
            "----------------------------------------\n",
            "testing datasets :  1    140000\n",
            "0     56965\n",
            "Name: Label, dtype: int64\n"
          ],
          "name": "stdout"
        }
      ]
    },
    {
      "cell_type": "code",
      "metadata": {
        "colab": {
          "base_uri": "https://localhost:8080/"
        },
        "id": "zbM-dru8ZlLp",
        "outputId": "cf16209d-6801-4a77-c08c-ad6562a42459"
      },
      "source": [
        "np.isinf(df).values.sum()\n",
        "df.replace([np.inf, -np.inf], np.nan, inplace=True)\n",
        "np.isinf(df).values.sum()\n",
        "df.dropna(axis=0,inplace=True)\n",
        "df.isnull().sum()\n",
        "np.isinf(df_test).values.sum()\n",
        "df_test.replace([np.inf, -np.inf], np.nan, inplace=True)\n",
        "np.isinf(df_test).values.sum()\n",
        "df_test.dropna(axis=0,inplace=True)\n",
        "df_test.isnull().sum()"
      ],
      "id": "zbM-dru8ZlLp",
      "execution_count": 6,
      "outputs": [
        {
          "output_type": "execute_result",
          "data": {
            "text/plain": [
              "Flow Duration                  0\n",
              "Total Fwd Packets              0\n",
              "Total Backward Packets         0\n",
              "Total Length of Fwd Packets    0\n",
              "Total Length of Bwd Packets    0\n",
              "Fwd Packet Length Max          0\n",
              "Fwd Packet Length Min          0\n",
              "Fwd Packet Length Mean         0\n",
              "Fwd Packet Length Std          0\n",
              "Bwd Packet Length Max          0\n",
              "Bwd Packet Length Min          0\n",
              "Bwd Packet Length Mean         0\n",
              "Bwd Packet Length Std          0\n",
              "Flow Bytes/s                   0\n",
              "Flow Packets/s                 0\n",
              "Flow IAT Mean                  0\n",
              "Flow IAT Std                   0\n",
              "Flow IAT Max                   0\n",
              "Flow IAT Min                   0\n",
              "Fwd IAT Total                  0\n",
              "Fwd IAT Mean                   0\n",
              "Fwd IAT Std                    0\n",
              "Fwd IAT Max                    0\n",
              "Fwd IAT Min                    0\n",
              "Bwd IAT Total                  0\n",
              "Bwd IAT Mean                   0\n",
              "Bwd IAT Std                    0\n",
              "Bwd IAT Max                    0\n",
              "Bwd IAT Min                    0\n",
              "Fwd PSH Flags                  0\n",
              "Bwd Header Length              0\n",
              "Fwd Packets/s                  0\n",
              "Bwd Packets/s                  0\n",
              "Min Packet Length              0\n",
              "Max Packet Length              0\n",
              "Packet Length Mean             0\n",
              "Packet Length Std              0\n",
              "Packet Length Variance         0\n",
              "SYN Flag Count                 0\n",
              "ACK Flag Count                 0\n",
              "URG Flag Count                 0\n",
              "CWE Flag Count                 0\n",
              "Down/Up Ratio                  0\n",
              "Average Packet Size            0\n",
              "Avg Fwd Segment Size           0\n",
              "Avg Bwd Segment Size           0\n",
              "Fwd Header Length.1            0\n",
              "Init_Win_bytes_forward         0\n",
              "Init_Win_bytes_backward        0\n",
              "act_data_pkt_fwd               0\n",
              "min_seg_size_forward           0\n",
              "Active Mean                    0\n",
              "Active Std                     0\n",
              "Active Max                     0\n",
              "Active Min                     0\n",
              "Idle Mean                      0\n",
              "Idle Std                       0\n",
              "Idle Max                       0\n",
              "Idle Min                       0\n",
              "Inbound                        0\n",
              "Label                          0\n",
              "dtype: int64"
            ]
          },
          "metadata": {
            "tags": []
          },
          "execution_count": 6
        }
      ]
    },
    {
      "cell_type": "code",
      "metadata": {
        "id": "d049d47d"
      },
      "source": [
        "x = df.iloc[:, : -1] # Take the features, except the last column, which is the target \n",
        "y = df.iloc[:, -1]\n",
        "df_test_target=df_test.iloc[:,-1]\n",
        "df_test_train=df_test.iloc[:,:-1]"
      ],
      "id": "d049d47d",
      "execution_count": 7,
      "outputs": []
    },
    {
      "cell_type": "code",
      "metadata": {
        "id": "4843ecdf"
      },
      "source": [
        "x_train, x_val, y_train, y_val =model_selection.train_test_split(x,y, test_size=0.2, random_state=2021,shuffle=True)"
      ],
      "id": "4843ecdf",
      "execution_count": 8,
      "outputs": []
    },
    {
      "cell_type": "markdown",
      "metadata": {
        "id": "_oVmsj5Clr8f"
      },
      "source": [
        "logistic regression\n"
      ],
      "id": "_oVmsj5Clr8f"
    },
    {
      "cell_type": "code",
      "metadata": {
        "id": "wlAEGA68XpV_"
      },
      "source": [
        "paramater_lr={'fit_intercept':[False,True],\n",
        "           'C':range(1,30,2),\n",
        "           'penalty':['l2','l1'],\n",
        "           'random_state':[2021]}"
      ],
      "id": "wlAEGA68XpV_",
      "execution_count": 9,
      "outputs": []
    },
    {
      "cell_type": "code",
      "metadata": {
        "colab": {
          "base_uri": "https://localhost:8080/"
        },
        "id": "vImC_YTPXgJW",
        "outputId": "b204d73a-92a1-4cbf-a02c-675758108a29"
      },
      "source": [
        "lr_cv=GridSearchCV(linear_model.LogisticRegression(),paramater_lr,refit=True,verbose = 3,n_jobs=-1,cv=5)\n",
        "lr_cv.fit(x_train, y_train)\n",
        "print('Best parameter for fare_amount in RandomForestRegressor: ',lr_cv.best_params_)\n"
      ],
      "id": "vImC_YTPXgJW",
      "execution_count": 10,
      "outputs": [
        {
          "output_type": "stream",
          "text": [
            "Fitting 5 folds for each of 60 candidates, totalling 300 fits\n"
          ],
          "name": "stdout"
        },
        {
          "output_type": "stream",
          "text": [
            "[Parallel(n_jobs=-1)]: Using backend LokyBackend with 2 concurrent workers.\n",
            "[Parallel(n_jobs=-1)]: Done  28 tasks      | elapsed:   52.7s\n",
            "[Parallel(n_jobs=-1)]: Done 124 tasks      | elapsed:  3.8min\n",
            "[Parallel(n_jobs=-1)]: Done 284 tasks      | elapsed:  8.6min\n",
            "[Parallel(n_jobs=-1)]: Done 300 out of 300 | elapsed:  8.9min finished\n"
          ],
          "name": "stderr"
        },
        {
          "output_type": "stream",
          "text": [
            "Best parameter for fare_amount in RandomForestRegressor:  {'C': 25, 'fit_intercept': True, 'penalty': 'l2', 'random_state': 2021}\n"
          ],
          "name": "stdout"
        },
        {
          "output_type": "stream",
          "text": [
            "/usr/local/lib/python3.7/dist-packages/sklearn/linear_model/_logistic.py:940: ConvergenceWarning: lbfgs failed to converge (status=1):\n",
            "STOP: TOTAL NO. of ITERATIONS REACHED LIMIT.\n",
            "\n",
            "Increase the number of iterations (max_iter) or scale the data as shown in:\n",
            "    https://scikit-learn.org/stable/modules/preprocessing.html\n",
            "Please also refer to the documentation for alternative solver options:\n",
            "    https://scikit-learn.org/stable/modules/linear_model.html#logistic-regression\n",
            "  extra_warning_msg=_LOGISTIC_SOLVER_CONVERGENCE_MSG)\n"
          ],
          "name": "stderr"
        }
      ]
    },
    {
      "cell_type": "code",
      "metadata": {
        "id": "Y5Qcc2teTs9h"
      },
      "source": [
        ""
      ],
      "id": "Y5Qcc2teTs9h",
      "execution_count": 10,
      "outputs": []
    },
    {
      "cell_type": "code",
      "metadata": {
        "colab": {
          "base_uri": "https://localhost:8080/"
        },
        "id": "8mTwu_fLbQzc",
        "outputId": "8ac30677-a082-43d9-96ad-37dda4b55012"
      },
      "source": [
        "predict_val=lr_cv.predict(x_val)\n",
        "predict_test=lr_cv.predict(df_test_train)\n",
        "print('precision and recall for validation data:', metrics.precision_score(y_val, predict_val), metrics.recall_score(y_val,predict_val))\n",
        "print('f1 score for validation datasets: ',f1_score(y_val,predict_val))\n",
        "print('----------------------------------------------------------------------------------')\n",
        "\n",
        "print('precision and recall for validation data:', metrics.precision_score(df_test_target, predict_test), metrics.recall_score(df_test_target,predict_test))\n",
        "print('f1 score for test datasets: ',f1_score(df_test_target,predict_test))\n"
      ],
      "id": "8mTwu_fLbQzc",
      "execution_count": 11,
      "outputs": [
        {
          "output_type": "stream",
          "text": [
            "precision and recall for validation data: 0.949361777306656 0.9980498223945395\n",
            "f1 score for validation datasets:  0.9730971648463584\n",
            "----------------------------------------------------------------------------------\n",
            "precision and recall for validation data: 0.851508358419266 0.9931126184002151\n",
            "f1 score for test datasets:  0.9168752887950951\n"
          ],
          "name": "stdout"
        }
      ]
    },
    {
      "cell_type": "code",
      "metadata": {
        "colab": {
          "base_uri": "https://localhost:8080/"
        },
        "id": "XJxcLvGKfU5V",
        "outputId": "bb7c2cd5-938f-4e66-b777-c828bfe5ee84"
      },
      "source": [
        "ovr_report=f'''\n",
        "Confusion Matrix:\n",
        "{metrics.confusion_matrix(df_test_target,predict_test)}\n",
        "Accuracy: {round(metrics.accuracy_score(df_test_target,predict_test), 3)}\n",
        "'''\n",
        "print(ovr_report)\n",
        "print('The classification report of binary:\\n {}'\n",
        "      .format(metrics.classification_report(df_test_target,predict_test)))\n",
        "y_pred_prob_test = lr_cv.predict_proba(df_test_train)[:,1]\n",
        "y_pred_prob_val= lr_cv.predict_proba(x_val)[:,1]\n",
        "print('AUC_test:', metrics.roc_auc_score(df_test_target, y_pred_prob_test))\n",
        "print('AUC_val:', metrics.roc_auc_score(y_val, y_pred_prob_val))"
      ],
      "id": "XJxcLvGKfU5V",
      "execution_count": 13,
      "outputs": [
        {
          "output_type": "stream",
          "text": [
            "\n",
            "Confusion Matrix:\n",
            "[[ 33122  23184]\n",
            " [   922 132946]]\n",
            "Accuracy: 0.873\n",
            "\n",
            "The classification report of binary:\n",
            "               precision    recall  f1-score   support\n",
            "\n",
            "           0       0.97      0.59      0.73     56306\n",
            "           1       0.85      0.99      0.92    133868\n",
            "\n",
            "    accuracy                           0.87    190174\n",
            "   macro avg       0.91      0.79      0.83    190174\n",
            "weighted avg       0.89      0.87      0.86    190174\n",
            "\n",
            "AUC_test: 0.9142506795804095\n",
            "AUC_val: 0.9482073153159285\n"
          ],
          "name": "stdout"
        }
      ]
    },
    {
      "cell_type": "markdown",
      "metadata": {
        "id": "KXGmPT8ey4eJ"
      },
      "source": [
        "# Search Best important features"
      ],
      "id": "KXGmPT8ey4eJ"
    },
    {
      "cell_type": "code",
      "metadata": {
        "id": "6SJiJlbfy-FI"
      },
      "source": [
        "LR=linear_model.LogisticRegression(C= 15, fit_intercept=True, penalty='l2', random_state= 2021)"
      ],
      "id": "6SJiJlbfy-FI",
      "execution_count": 14,
      "outputs": []
    },
    {
      "cell_type": "code",
      "metadata": {
        "colab": {
          "base_uri": "https://localhost:8080/"
        },
        "id": "20PTLJeCzOmI",
        "outputId": "d19b40fd-c7b7-4190-ec20-84e97ae3a5bb"
      },
      "source": [
        "LR.fit(x_train, y_train)\n",
        "importance = LR.coef_[0]"
      ],
      "id": "20PTLJeCzOmI",
      "execution_count": 15,
      "outputs": [
        {
          "output_type": "stream",
          "text": [
            "/usr/local/lib/python3.7/dist-packages/sklearn/linear_model/_logistic.py:940: ConvergenceWarning: lbfgs failed to converge (status=1):\n",
            "STOP: TOTAL NO. of ITERATIONS REACHED LIMIT.\n",
            "\n",
            "Increase the number of iterations (max_iter) or scale the data as shown in:\n",
            "    https://scikit-learn.org/stable/modules/preprocessing.html\n",
            "Please also refer to the documentation for alternative solver options:\n",
            "    https://scikit-learn.org/stable/modules/linear_model.html#logistic-regression\n",
            "  extra_warning_msg=_LOGISTIC_SOLVER_CONVERGENCE_MSG)\n"
          ],
          "name": "stderr"
        }
      ]
    },
    {
      "cell_type": "code",
      "metadata": {
        "colab": {
          "base_uri": "https://localhost:8080/",
          "height": 1000
        },
        "id": "MH4oSbL3z-GX",
        "outputId": "a6509c3f-d63d-47cf-ecd9-998ccc2cf49e"
      },
      "source": [
        "\n",
        "importance=pd.DataFrame(x_train.columns)\n",
        "importance['score']=LR.coef_[0]\n",
        "importance.sort_values(by='score',ascending=True)"
      ],
      "id": "MH4oSbL3z-GX",
      "execution_count": 16,
      "outputs": [
        {
          "output_type": "execute_result",
          "data": {
            "text/html": [
              "<div>\n",
              "<style scoped>\n",
              "    .dataframe tbody tr th:only-of-type {\n",
              "        vertical-align: middle;\n",
              "    }\n",
              "\n",
              "    .dataframe tbody tr th {\n",
              "        vertical-align: top;\n",
              "    }\n",
              "\n",
              "    .dataframe thead th {\n",
              "        text-align: right;\n",
              "    }\n",
              "</style>\n",
              "<table border=\"1\" class=\"dataframe\">\n",
              "  <thead>\n",
              "    <tr style=\"text-align: right;\">\n",
              "      <th></th>\n",
              "      <th>0</th>\n",
              "      <th>score</th>\n",
              "    </tr>\n",
              "  </thead>\n",
              "  <tbody>\n",
              "    <tr>\n",
              "      <th>17</th>\n",
              "      <td>Flow IAT Max</td>\n",
              "      <td>-9.795005e-07</td>\n",
              "    </tr>\n",
              "    <tr>\n",
              "      <th>0</th>\n",
              "      <td>Flow Duration</td>\n",
              "      <td>-7.718631e-07</td>\n",
              "    </tr>\n",
              "    <tr>\n",
              "      <th>37</th>\n",
              "      <td>Packet Length Variance</td>\n",
              "      <td>-6.457643e-07</td>\n",
              "    </tr>\n",
              "    <tr>\n",
              "      <th>58</th>\n",
              "      <td>Idle Min</td>\n",
              "      <td>-4.416517e-07</td>\n",
              "    </tr>\n",
              "    <tr>\n",
              "      <th>55</th>\n",
              "      <td>Idle Mean</td>\n",
              "      <td>-3.821069e-07</td>\n",
              "    </tr>\n",
              "    <tr>\n",
              "      <th>53</th>\n",
              "      <td>Active Max</td>\n",
              "      <td>-3.652178e-07</td>\n",
              "    </tr>\n",
              "    <tr>\n",
              "      <th>51</th>\n",
              "      <td>Active Mean</td>\n",
              "      <td>-3.151125e-07</td>\n",
              "    </tr>\n",
              "    <tr>\n",
              "      <th>24</th>\n",
              "      <td>Bwd IAT Total</td>\n",
              "      <td>-2.835426e-07</td>\n",
              "    </tr>\n",
              "    <tr>\n",
              "      <th>54</th>\n",
              "      <td>Active Min</td>\n",
              "      <td>-2.801605e-07</td>\n",
              "    </tr>\n",
              "    <tr>\n",
              "      <th>18</th>\n",
              "      <td>Flow IAT Min</td>\n",
              "      <td>-2.372410e-07</td>\n",
              "    </tr>\n",
              "    <tr>\n",
              "      <th>23</th>\n",
              "      <td>Fwd IAT Min</td>\n",
              "      <td>-2.158677e-07</td>\n",
              "    </tr>\n",
              "    <tr>\n",
              "      <th>4</th>\n",
              "      <td>Total Length of Bwd Packets</td>\n",
              "      <td>-6.209205e-08</td>\n",
              "    </tr>\n",
              "    <tr>\n",
              "      <th>47</th>\n",
              "      <td>Init_Win_bytes_forward</td>\n",
              "      <td>-5.342620e-08</td>\n",
              "    </tr>\n",
              "    <tr>\n",
              "      <th>52</th>\n",
              "      <td>Active Std</td>\n",
              "      <td>-4.243537e-08</td>\n",
              "    </tr>\n",
              "    <tr>\n",
              "      <th>48</th>\n",
              "      <td>Init_Win_bytes_backward</td>\n",
              "      <td>-3.900358e-08</td>\n",
              "    </tr>\n",
              "    <tr>\n",
              "      <th>32</th>\n",
              "      <td>Bwd Packets/s</td>\n",
              "      <td>-3.625814e-08</td>\n",
              "    </tr>\n",
              "    <tr>\n",
              "      <th>46</th>\n",
              "      <td>Fwd Header Length.1</td>\n",
              "      <td>-3.310297e-09</td>\n",
              "    </tr>\n",
              "    <tr>\n",
              "      <th>9</th>\n",
              "      <td>Bwd Packet Length Max</td>\n",
              "      <td>-2.497108e-09</td>\n",
              "    </tr>\n",
              "    <tr>\n",
              "      <th>11</th>\n",
              "      <td>Bwd Packet Length Mean</td>\n",
              "      <td>-9.706095e-10</td>\n",
              "    </tr>\n",
              "    <tr>\n",
              "      <th>45</th>\n",
              "      <td>Avg Bwd Segment Size</td>\n",
              "      <td>-9.706095e-10</td>\n",
              "    </tr>\n",
              "    <tr>\n",
              "      <th>12</th>\n",
              "      <td>Bwd Packet Length Std</td>\n",
              "      <td>-6.028111e-10</td>\n",
              "    </tr>\n",
              "    <tr>\n",
              "      <th>36</th>\n",
              "      <td>Packet Length Std</td>\n",
              "      <td>-4.680052e-10</td>\n",
              "    </tr>\n",
              "    <tr>\n",
              "      <th>10</th>\n",
              "      <td>Bwd Packet Length Min</td>\n",
              "      <td>-4.623046e-10</td>\n",
              "    </tr>\n",
              "    <tr>\n",
              "      <th>2</th>\n",
              "      <td>Total Backward Packets</td>\n",
              "      <td>-4.527357e-11</td>\n",
              "    </tr>\n",
              "    <tr>\n",
              "      <th>28</th>\n",
              "      <td>Bwd IAT Min</td>\n",
              "      <td>-1.922715e-11</td>\n",
              "    </tr>\n",
              "    <tr>\n",
              "      <th>42</th>\n",
              "      <td>Down/Up Ratio</td>\n",
              "      <td>-9.479796e-12</td>\n",
              "    </tr>\n",
              "    <tr>\n",
              "      <th>40</th>\n",
              "      <td>URG Flag Count</td>\n",
              "      <td>-6.039814e-12</td>\n",
              "    </tr>\n",
              "    <tr>\n",
              "      <th>8</th>\n",
              "      <td>Fwd Packet Length Std</td>\n",
              "      <td>-5.828460e-12</td>\n",
              "    </tr>\n",
              "    <tr>\n",
              "      <th>41</th>\n",
              "      <td>CWE Flag Count</td>\n",
              "      <td>-2.578255e-12</td>\n",
              "    </tr>\n",
              "    <tr>\n",
              "      <th>29</th>\n",
              "      <td>Fwd PSH Flags</td>\n",
              "      <td>-2.066016e-12</td>\n",
              "    </tr>\n",
              "    <tr>\n",
              "      <th>38</th>\n",
              "      <td>SYN Flag Count</td>\n",
              "      <td>-7.378819e-14</td>\n",
              "    </tr>\n",
              "    <tr>\n",
              "      <th>39</th>\n",
              "      <td>ACK Flag Count</td>\n",
              "      <td>3.727057e-12</td>\n",
              "    </tr>\n",
              "    <tr>\n",
              "      <th>59</th>\n",
              "      <td>Inbound</td>\n",
              "      <td>1.843582e-11</td>\n",
              "    </tr>\n",
              "    <tr>\n",
              "      <th>49</th>\n",
              "      <td>act_data_pkt_fwd</td>\n",
              "      <td>2.698756e-10</td>\n",
              "    </tr>\n",
              "    <tr>\n",
              "      <th>1</th>\n",
              "      <td>Total Fwd Packets</td>\n",
              "      <td>2.704791e-10</td>\n",
              "    </tr>\n",
              "    <tr>\n",
              "      <th>50</th>\n",
              "      <td>min_seg_size_forward</td>\n",
              "      <td>4.254703e-09</td>\n",
              "    </tr>\n",
              "    <tr>\n",
              "      <th>34</th>\n",
              "      <td>Max Packet Length</td>\n",
              "      <td>4.289389e-09</td>\n",
              "    </tr>\n",
              "    <tr>\n",
              "      <th>5</th>\n",
              "      <td>Fwd Packet Length Max</td>\n",
              "      <td>6.055512e-09</td>\n",
              "    </tr>\n",
              "    <tr>\n",
              "      <th>35</th>\n",
              "      <td>Packet Length Mean</td>\n",
              "      <td>6.057732e-09</td>\n",
              "    </tr>\n",
              "    <tr>\n",
              "      <th>6</th>\n",
              "      <td>Fwd Packet Length Min</td>\n",
              "      <td>6.157339e-09</td>\n",
              "    </tr>\n",
              "    <tr>\n",
              "      <th>33</th>\n",
              "      <td>Min Packet Length</td>\n",
              "      <td>6.167581e-09</td>\n",
              "    </tr>\n",
              "    <tr>\n",
              "      <th>7</th>\n",
              "      <td>Fwd Packet Length Mean</td>\n",
              "      <td>6.412293e-09</td>\n",
              "    </tr>\n",
              "    <tr>\n",
              "      <th>44</th>\n",
              "      <td>Avg Fwd Segment Size</td>\n",
              "      <td>6.412293e-09</td>\n",
              "    </tr>\n",
              "    <tr>\n",
              "      <th>43</th>\n",
              "      <td>Average Packet Size</td>\n",
              "      <td>7.676012e-09</td>\n",
              "    </tr>\n",
              "    <tr>\n",
              "      <th>57</th>\n",
              "      <td>Idle Max</td>\n",
              "      <td>3.674545e-08</td>\n",
              "    </tr>\n",
              "    <tr>\n",
              "      <th>13</th>\n",
              "      <td>Flow Bytes/s</td>\n",
              "      <td>3.727452e-08</td>\n",
              "    </tr>\n",
              "    <tr>\n",
              "      <th>56</th>\n",
              "      <td>Idle Std</td>\n",
              "      <td>3.829506e-08</td>\n",
              "    </tr>\n",
              "    <tr>\n",
              "      <th>22</th>\n",
              "      <td>Fwd IAT Max</td>\n",
              "      <td>4.433396e-08</td>\n",
              "    </tr>\n",
              "    <tr>\n",
              "      <th>3</th>\n",
              "      <td>Total Length of Fwd Packets</td>\n",
              "      <td>1.142030e-07</td>\n",
              "    </tr>\n",
              "    <tr>\n",
              "      <th>27</th>\n",
              "      <td>Bwd IAT Max</td>\n",
              "      <td>1.535331e-07</td>\n",
              "    </tr>\n",
              "    <tr>\n",
              "      <th>30</th>\n",
              "      <td>Bwd Header Length</td>\n",
              "      <td>1.743532e-07</td>\n",
              "    </tr>\n",
              "    <tr>\n",
              "      <th>25</th>\n",
              "      <td>Bwd IAT Mean</td>\n",
              "      <td>1.821704e-07</td>\n",
              "    </tr>\n",
              "    <tr>\n",
              "      <th>26</th>\n",
              "      <td>Bwd IAT Std</td>\n",
              "      <td>2.758412e-07</td>\n",
              "    </tr>\n",
              "    <tr>\n",
              "      <th>14</th>\n",
              "      <td>Flow Packets/s</td>\n",
              "      <td>4.714161e-07</td>\n",
              "    </tr>\n",
              "    <tr>\n",
              "      <th>31</th>\n",
              "      <td>Fwd Packets/s</td>\n",
              "      <td>5.076753e-07</td>\n",
              "    </tr>\n",
              "    <tr>\n",
              "      <th>19</th>\n",
              "      <td>Fwd IAT Total</td>\n",
              "      <td>7.779191e-07</td>\n",
              "    </tr>\n",
              "    <tr>\n",
              "      <th>15</th>\n",
              "      <td>Flow IAT Mean</td>\n",
              "      <td>1.072529e-06</td>\n",
              "    </tr>\n",
              "    <tr>\n",
              "      <th>20</th>\n",
              "      <td>Fwd IAT Mean</td>\n",
              "      <td>1.102587e-06</td>\n",
              "    </tr>\n",
              "    <tr>\n",
              "      <th>21</th>\n",
              "      <td>Fwd IAT Std</td>\n",
              "      <td>1.153576e-06</td>\n",
              "    </tr>\n",
              "    <tr>\n",
              "      <th>16</th>\n",
              "      <td>Flow IAT Std</td>\n",
              "      <td>1.205720e-06</td>\n",
              "    </tr>\n",
              "  </tbody>\n",
              "</table>\n",
              "</div>"
            ],
            "text/plain": [
              "                              0         score\n",
              "17                 Flow IAT Max -9.795005e-07\n",
              "0                 Flow Duration -7.718631e-07\n",
              "37       Packet Length Variance -6.457643e-07\n",
              "58                     Idle Min -4.416517e-07\n",
              "55                    Idle Mean -3.821069e-07\n",
              "53                   Active Max -3.652178e-07\n",
              "51                  Active Mean -3.151125e-07\n",
              "24                Bwd IAT Total -2.835426e-07\n",
              "54                   Active Min -2.801605e-07\n",
              "18                 Flow IAT Min -2.372410e-07\n",
              "23                  Fwd IAT Min -2.158677e-07\n",
              "4   Total Length of Bwd Packets -6.209205e-08\n",
              "47       Init_Win_bytes_forward -5.342620e-08\n",
              "52                   Active Std -4.243537e-08\n",
              "48      Init_Win_bytes_backward -3.900358e-08\n",
              "32                Bwd Packets/s -3.625814e-08\n",
              "46          Fwd Header Length.1 -3.310297e-09\n",
              "9         Bwd Packet Length Max -2.497108e-09\n",
              "11       Bwd Packet Length Mean -9.706095e-10\n",
              "45         Avg Bwd Segment Size -9.706095e-10\n",
              "12        Bwd Packet Length Std -6.028111e-10\n",
              "36            Packet Length Std -4.680052e-10\n",
              "10        Bwd Packet Length Min -4.623046e-10\n",
              "2        Total Backward Packets -4.527357e-11\n",
              "28                  Bwd IAT Min -1.922715e-11\n",
              "42                Down/Up Ratio -9.479796e-12\n",
              "40               URG Flag Count -6.039814e-12\n",
              "8         Fwd Packet Length Std -5.828460e-12\n",
              "41               CWE Flag Count -2.578255e-12\n",
              "29                Fwd PSH Flags -2.066016e-12\n",
              "38               SYN Flag Count -7.378819e-14\n",
              "39               ACK Flag Count  3.727057e-12\n",
              "59                      Inbound  1.843582e-11\n",
              "49             act_data_pkt_fwd  2.698756e-10\n",
              "1             Total Fwd Packets  2.704791e-10\n",
              "50         min_seg_size_forward  4.254703e-09\n",
              "34            Max Packet Length  4.289389e-09\n",
              "5         Fwd Packet Length Max  6.055512e-09\n",
              "35           Packet Length Mean  6.057732e-09\n",
              "6         Fwd Packet Length Min  6.157339e-09\n",
              "33            Min Packet Length  6.167581e-09\n",
              "7        Fwd Packet Length Mean  6.412293e-09\n",
              "44         Avg Fwd Segment Size  6.412293e-09\n",
              "43          Average Packet Size  7.676012e-09\n",
              "57                     Idle Max  3.674545e-08\n",
              "13                 Flow Bytes/s  3.727452e-08\n",
              "56                     Idle Std  3.829506e-08\n",
              "22                  Fwd IAT Max  4.433396e-08\n",
              "3   Total Length of Fwd Packets  1.142030e-07\n",
              "27                  Bwd IAT Max  1.535331e-07\n",
              "30            Bwd Header Length  1.743532e-07\n",
              "25                 Bwd IAT Mean  1.821704e-07\n",
              "26                  Bwd IAT Std  2.758412e-07\n",
              "14               Flow Packets/s  4.714161e-07\n",
              "31                Fwd Packets/s  5.076753e-07\n",
              "19                Fwd IAT Total  7.779191e-07\n",
              "15                Flow IAT Mean  1.072529e-06\n",
              "20                 Fwd IAT Mean  1.102587e-06\n",
              "21                  Fwd IAT Std  1.153576e-06\n",
              "16                 Flow IAT Std  1.205720e-06"
            ]
          },
          "metadata": {
            "tags": []
          },
          "execution_count": 16
        }
      ]
    }
  ]
}